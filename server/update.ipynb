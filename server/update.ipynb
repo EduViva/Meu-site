{
 "cells": [
  {
   "cell_type": "code",
   "execution_count": 1,
   "metadata": {},
   "outputs": [],
   "source": [
    "from napkin import response, request\n",
    "from pymongo import MongoClient, UpdateOne\n",
    "import json\n",
    "import os\n",
    "\n",
    "CLIENT_NAME = request.path_params.get(\"CLIENT_NAME\")\n",
    "MONGO_AUTH = os.environ.get(\"MONGO_AUTH\")\n",
    "body = json.loads(request.data)\n",
    "if isinstance(body, list) != True:\n",
    "  body = [body]\n"
   ]
  },
  {
   "cell_type": "code",
   "execution_count": 2,
   "metadata": {},
   "outputs": [],
   "source": [
    "from pymongo import MongoClient, UpdateOne\n",
    "\n",
    "client = MongoClient(\"mongodb+srv://{}@meusite.hcxhp.mongodb.net/Site?retryWrites=true&w=majority\".format(MONGO_AUTH))\n",
    "db = client.Site\n",
    "\n",
    "Coll = db[CLIENT_NAME]"
   ]
  },
  {
   "cell_type": "code",
   "execution_count": 3,
   "metadata": {},
   "outputs": [
    {
     "name": "stdout",
     "output_type": "stream",
     "text": [
      "[{'_id': 'Metadata', 'logo': 'Eduardo.Viva', 'name': 'Eduardo', 'role': 'UX / UI / Product Designer'}]\n"
     ]
    }
   ],
   "source": [
    "ids = map(lambda item: item.get(\"block\").capitalize(), body)\n",
    "\n",
    "cursor = Coll.find({ \"_id\": { \"$in\": list(ids) } })\n",
    "data = [doc for doc in cursor]\n",
    "\n",
    "print(data)"
   ]
  },
  {
   "cell_type": "code",
   "execution_count": 4,
   "metadata": {},
   "outputs": [
    {
     "name": "stdout",
     "output_type": "stream",
     "text": [
      "{'Metadata': {'_id': 'Metadata', 'logo': 'Eduardo.Viva', 'name': 'Leo ne', 'role': 'UX / UI / Product Designer'}}\n"
     ]
    }
   ],
   "source": [
    "result = dict()\n",
    "\n",
    "for obj in body:\n",
    "    block = obj.get(\"block\").capitalize()\n",
    "    current = [x for x in data if x.get(\"_id\") == block]\n",
    "    result[block] = current[0] if len(current) > 0 else dict()\n",
    "    del obj[\"block\"]\n",
    "    result[block].update(obj)\n",
    "\n",
    "print(result)"
   ]
  },
  {
   "cell_type": "code",
   "execution_count": 5,
   "metadata": {},
   "outputs": [
    {
     "name": "stdout",
     "output_type": "stream",
     "text": [
      "Modified: 1\n"
     ]
    }
   ],
   "source": [
    "\n",
    "operations = []\n",
    "for key in result:\n",
    "  document = result[key]\n",
    "  operations.append(UpdateOne({ \"_id\": key }, { \"$set\": document }, upsert=True))\n",
    "  \n",
    "if len(operations) > 0:\n",
    "  res = Coll.bulk_write(operations)\n",
    "  print(\"Modified: {}\".format(res.modified_count))"
   ]
  }
 ],
 "metadata": {
  "interpreter": {
   "hash": "31f2aee4e71d21fbe5cf8b01ff0e069b9275f58929596ceb00d14d90e3e16cd6"
  },
  "kernelspec": {
   "display_name": "Python 3.8.5 64-bit",
   "name": "python3"
  },
  "language_info": {
   "codemirror_mode": {
    "name": "ipython",
    "version": 3
   },
   "file_extension": ".py",
   "mimetype": "text/x-python",
   "name": "python",
   "nbconvert_exporter": "python",
   "pygments_lexer": "ipython3",
   "version": "3.8.5"
  },
  "orig_nbformat": 4
 },
 "nbformat": 4,
 "nbformat_minor": 2
}