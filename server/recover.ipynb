{
 "cells": [
  {
   "cell_type": "code",
   "execution_count": 13,
   "source": [
    "from napkin import response, request\n",
    "from pymongo import MongoClient\n",
    "import requests\n",
    "import os\n",
    "import string\n",
    "import random\n",
    "\n",
    "CLIENT_NAME = request.path_params.get(\"CLIENT_NAME\")\n",
    "MONGO_AUTH = os.environ.get(\"MONGO_AUTH\")\n",
    "GAPP_KEY = os.environ.get(\"GAPP_KEY\")\n",
    "\n",
    "APP_URL = \"https://script.google.com/macros/s/\"\n",
    "EMAIL = request.path_params.get(\"EMAIL\")"
   ],
   "outputs": [],
   "metadata": {}
  },
  {
   "cell_type": "code",
   "execution_count": 14,
   "source": [
    "client = MongoClient(\"mongodb+srv://{}@meusite.hcxhp.mongodb.net/Site?retryWrites=true&w=majority\".format(MONGO_AUTH))\n",
    "db = client.Site\n",
    "\n",
    "Coll = db[CLIENT_NAME]\n",
    "Auth = Coll.find_one({ \"_id\": \"Auth\", \"users.email\": EMAIL })"
   ],
   "outputs": [],
   "metadata": {}
  },
  {
   "cell_type": "code",
   "execution_count": 18,
   "source": [
    "from passlib.context import CryptContext\n",
    "\n",
    "pwd_context = CryptContext(\n",
    "  schemes=[\"pbkdf2_sha256\"],\n",
    "  default=\"pbkdf2_sha256\",\n",
    "  pbkdf2_sha256__default_rounds=30000\n",
    ")"
   ],
   "outputs": [
    {
     "output_type": "execute_result",
     "data": {
      "text/plain": [
       "'$pbkdf2-sha256$30000$qHVurTXmnBNirBViDOE8xw$FzJtIfa11B4pePZOH70o3DwcjmkztuLeaOAAP3P7uAg'"
      ]
     },
     "metadata": {},
     "execution_count": 18
    }
   ],
   "metadata": {}
  },
  {
   "cell_type": "code",
   "execution_count": 16,
   "source": [
    "if Auth != None:\n",
    "  password = ''.join(random.sample(string.ascii_letters, 6))\n",
    "  \n",
    "  users = Auth.get(\"users\")\n",
    "  index, user = [(i, usr) for (i, usr) in enumerate(users) if usr.get(\"email\") == EMAIL][0]\n",
    "\n",
    "  user['pass'] = pwd_context.hash(password)\n",
    "  users[index] = user\n",
    "  Coll.update_one({ \"_id\": \"Auth\" }, { \"$set\": { \"users\": users } })\n",
    "\n",
    "  try:\n",
    "    email = {\n",
    "      \"to\": EMAIL,\n",
    "      \"subject\": \"Alteração de senha\",\n",
    "      \"message\": \"Sua nova senha é {}\".format(password)\n",
    "    }\n",
    "    data = requests.get(APP_URL + GAPP_KEY, params=email)\n",
    "    email_response = data.json()\n",
    "    print(email_response)\n",
    "\n",
    "    if email_response[\"status\"] == \"success\":\n",
    "      response.status_code = 200\n",
    "    else:\n",
    "      response.status_code = 400\n",
    "      response.body = email_response.message\n",
    "  except:\n",
    "    response.status_code = 400\n",
    "    response.body = \"Offline\"\n"
   ],
   "outputs": [
    {
     "output_type": "stream",
     "name": "stdout",
     "text": [
      "{'status': 'success'}\n"
     ]
    },
    {
     "output_type": "error",
     "ename": "NameError",
     "evalue": "name 'response' is not defined",
     "traceback": [
      "\u001b[0;31m---------------------------------------------------------------------------\u001b[0m",
      "\u001b[0;31mNameError\u001b[0m                                 Traceback (most recent call last)",
      "\u001b[0;32m<ipython-input-16-aa50b5d7450b>\u001b[0m in \u001b[0;36m<module>\u001b[0;34m\u001b[0m\n\u001b[1;32m     13\u001b[0m     \u001b[0;32mif\u001b[0m \u001b[0memail_response\u001b[0m\u001b[0;34m[\u001b[0m\u001b[0;34m\"status\"\u001b[0m\u001b[0;34m]\u001b[0m \u001b[0;34m==\u001b[0m \u001b[0;34m\"success\"\u001b[0m\u001b[0;34m:\u001b[0m\u001b[0;34m\u001b[0m\u001b[0;34m\u001b[0m\u001b[0m\n\u001b[0;32m---> 14\u001b[0;31m       \u001b[0mresponse\u001b[0m\u001b[0;34m.\u001b[0m\u001b[0mstatus_code\u001b[0m \u001b[0;34m=\u001b[0m \u001b[0;36m200\u001b[0m\u001b[0;34m\u001b[0m\u001b[0;34m\u001b[0m\u001b[0m\n\u001b[0m\u001b[1;32m     15\u001b[0m     \u001b[0;32melse\u001b[0m\u001b[0;34m:\u001b[0m\u001b[0;34m\u001b[0m\u001b[0;34m\u001b[0m\u001b[0m\n",
      "\u001b[0;31mNameError\u001b[0m: name 'response' is not defined",
      "\nDuring handling of the above exception, another exception occurred:\n",
      "\u001b[0;31mNameError\u001b[0m                                 Traceback (most recent call last)",
      "\u001b[0;32m<ipython-input-16-aa50b5d7450b>\u001b[0m in \u001b[0;36m<module>\u001b[0;34m\u001b[0m\n\u001b[1;32m     17\u001b[0m       \u001b[0mresponse\u001b[0m\u001b[0;34m.\u001b[0m\u001b[0mbody\u001b[0m \u001b[0;34m=\u001b[0m \u001b[0memail_response\u001b[0m\u001b[0;34m.\u001b[0m\u001b[0mmessage\u001b[0m\u001b[0;34m\u001b[0m\u001b[0;34m\u001b[0m\u001b[0m\n\u001b[1;32m     18\u001b[0m   \u001b[0;32mexcept\u001b[0m\u001b[0;34m:\u001b[0m\u001b[0;34m\u001b[0m\u001b[0;34m\u001b[0m\u001b[0m\n\u001b[0;32m---> 19\u001b[0;31m     \u001b[0mresponse\u001b[0m\u001b[0;34m.\u001b[0m\u001b[0mstatus_code\u001b[0m \u001b[0;34m=\u001b[0m \u001b[0;36m400\u001b[0m\u001b[0;34m\u001b[0m\u001b[0;34m\u001b[0m\u001b[0m\n\u001b[0m\u001b[1;32m     20\u001b[0m     \u001b[0mresponse\u001b[0m\u001b[0;34m.\u001b[0m\u001b[0mbody\u001b[0m \u001b[0;34m=\u001b[0m \u001b[0;34m\"Offline\"\u001b[0m\u001b[0;34m\u001b[0m\u001b[0;34m\u001b[0m\u001b[0m\n",
      "\u001b[0;31mNameError\u001b[0m: name 'response' is not defined"
     ]
    }
   ],
   "metadata": {}
  }
 ],
 "metadata": {
  "orig_nbformat": 4,
  "language_info": {
   "name": "python",
   "version": "3.8.10",
   "mimetype": "text/x-python",
   "codemirror_mode": {
    "name": "ipython",
    "version": 3
   },
   "pygments_lexer": "ipython3",
   "nbconvert_exporter": "python",
   "file_extension": ".py"
  },
  "kernelspec": {
   "name": "python3",
   "display_name": "Python 3.8.10 64-bit"
  },
  "interpreter": {
   "hash": "31f2aee4e71d21fbe5cf8b01ff0e069b9275f58929596ceb00d14d90e3e16cd6"
  }
 },
 "nbformat": 4,
 "nbformat_minor": 2
}