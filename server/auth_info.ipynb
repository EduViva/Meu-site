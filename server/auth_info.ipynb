{
 "cells": [
  {
   "cell_type": "code",
   "execution_count": 5,
   "source": [
    "from napkin import response, request\n",
    "from pymongo import MongoClient\n",
    "from datetime import datetime, timedelta\n",
    "import os\n",
    "\n",
    "CLIENT_NAME = request.path_params.get(\"CLIENT_NAME\")\n",
    "MONGO_AUTH = os.environ.get(\"MONGO_AUTH\")\n",
    "TOKEN = request.path_params.get(\"TOKEN\")"
   ],
   "outputs": [],
   "metadata": {}
  },
  {
   "cell_type": "code",
   "execution_count": 3,
   "source": [
    "client = MongoClient(\"mongodb+srv://{}@meusite.hcxhp.mongodb.net/Site?retryWrites=true&w=majority\".format(MONGO_AUTH))\n",
    "db = client.Site\n",
    "\n",
    "Coll = db[CLIENT_NAME]"
   ],
   "outputs": [],
   "metadata": {}
  },
  {
   "cell_type": "code",
   "execution_count": 11,
   "source": [
    "LOGGED_SPAN = 3 # days\n",
    "\n",
    "date = datetime.now()\n",
    "allowed_time = date - timedelta(days = LOGGED_SPAN)\n",
    "\n",
    "Auth = Coll.find_one({ \"_id\": \"Auth\", \"users.service.token\": TOKEN })\n",
    "\n",
    "if Auth:\n",
    "  users = Auth[\"users\"]\n",
    "  user = [usr for usr in users if usr[\"service\"][\"token\"] == TOKEN][0]\n",
    "\n",
    "  is_in_logged_span = user[\"service\"][\"since\"] > allowed_time\n",
    "  response.status_code = 200 if is_in_logged_span else 501\n",
    "else:\n",
    "  response.status_code = 501\n"
   ],
   "outputs": [
    {
     "output_type": "stream",
     "name": "stdout",
     "text": [
      "False\n"
     ]
    }
   ],
   "metadata": {}
  }
 ],
 "metadata": {
  "orig_nbformat": 4,
  "language_info": {
   "name": "python",
   "version": "3.8.10",
   "mimetype": "text/x-python",
   "codemirror_mode": {
    "name": "ipython",
    "version": 3
   },
   "pygments_lexer": "ipython3",
   "nbconvert_exporter": "python",
   "file_extension": ".py"
  },
  "kernelspec": {
   "name": "python3",
   "display_name": "Python 3.8.10 64-bit"
  },
  "interpreter": {
   "hash": "31f2aee4e71d21fbe5cf8b01ff0e069b9275f58929596ceb00d14d90e3e16cd6"
  }
 },
 "nbformat": 4,
 "nbformat_minor": 2
}