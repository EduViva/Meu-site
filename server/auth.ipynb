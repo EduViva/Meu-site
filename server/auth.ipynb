{
 "cells": [
  {
   "cell_type": "code",
   "execution_count": 19,
   "source": [
    "from napkin import response, request\n",
    "from pymongo import MongoClient\n",
    "from datetime import datetime\n",
    "import json\n",
    "import secrets\n",
    "import os\n",
    "\n",
    "CLIENT_NAME = request.path_params.get(\"CLIENT_NAME\")\n",
    "MONGO_AUTH = os.environ.get(\"MONGO_AUTH\")\n",
    "body = json.loads(request.data)"
   ],
   "outputs": [],
   "metadata": {}
  },
  {
   "cell_type": "code",
   "execution_count": 3,
   "source": [
    "from passlib.context import CryptContext\n",
    "\n",
    "pwd_context = CryptContext(\n",
    "  schemes=[\"pbkdf2_sha256\"],\n",
    "  default=\"pbkdf2_sha256\",\n",
    "  pbkdf2_sha256__default_rounds=30000\n",
    ")"
   ],
   "outputs": [],
   "metadata": {}
  },
  {
   "cell_type": "code",
   "execution_count": 4,
   "source": [
    "client = MongoClient(\"mongodb+srv://{}@meusite.hcxhp.mongodb.net/Site?retryWrites=true&w=majority\".format(MONGO_AUTH))\n",
    "db = client.Site\n",
    "\n",
    "Coll = db[CLIENT_NAME]\n",
    "Auth = Coll.find_one({ \"_id\": \"Auth\", \"users.email\": body[\"email\"] })"
   ],
   "outputs": [],
   "metadata": {}
  },
  {
   "cell_type": "code",
   "execution_count": 18,
   "source": [
    "if Auth is None:\n",
    "  response.status_code = 401\n",
    "\n",
    "users = Auth.get(\"users\")\n",
    "index, user = [(i, usr) for (i, usr) in enumerate(users) if usr.get(\"email\") == body[\"email\"]][0]"
   ],
   "outputs": [
    {
     "output_type": "execute_result",
     "data": {
      "text/plain": [
       "{'email': 'leonardogviva@gmail.com',\n",
       " 'pass': '$pbkdf2-sha256$30000$RIiRkjJG6J1zTilljFFKyQ$gIdJjCHSDJMg63u2bidgsaZoec34G0SzQJBZ4yz7bX8'}"
      ]
     },
     "metadata": {},
     "execution_count": 18
    }
   ],
   "metadata": {}
  },
  {
   "cell_type": "code",
   "execution_count": 28,
   "source": [
    "password_match = pwd_context.verify(body[\"pass\"], user.get(\"pass\"))\n",
    "\n",
    "if password_match:\n",
    "  login_hash = secrets.token_hex()\n",
    "  user[\"service\"] = {\n",
    "    \"token\": login_hash,\n",
    "    \"since\": datetime.now()\n",
    "  }\n",
    "  users[index] = user\n",
    "\n",
    "  Coll.update_one({ \"_id\": \"Auth\" }, { \"$set\": { \"users\": users } })\n",
    "\n",
    "  response.body = login_hash\n",
    "  response.status_code = 200\n",
    "else:\n",
    "  response.status_code = 401\n"
   ],
   "outputs": [],
   "metadata": {}
  }
 ],
 "metadata": {
  "orig_nbformat": 4,
  "language_info": {
   "name": "python",
   "version": "3.8.10",
   "mimetype": "text/x-python",
   "codemirror_mode": {
    "name": "ipython",
    "version": 3
   },
   "pygments_lexer": "ipython3",
   "nbconvert_exporter": "python",
   "file_extension": ".py"
  },
  "kernelspec": {
   "name": "python3",
   "display_name": "Python 3.8.10 64-bit"
  },
  "interpreter": {
   "hash": "31f2aee4e71d21fbe5cf8b01ff0e069b9275f58929596ceb00d14d90e3e16cd6"
  }
 },
 "nbformat": 4,
 "nbformat_minor": 2
}