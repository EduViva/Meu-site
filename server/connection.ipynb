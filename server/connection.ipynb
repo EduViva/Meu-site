{
 "cells": [
  {
   "cell_type": "code",
   "execution_count": 2,
   "source": [
    "from napkin import response, request\n",
    "from pymongo import MongoClient\n",
    "import os\n",
    "\n",
    "CLIENT_NAME = request.path_params.get(\"CLIENT_NAME\")\n",
    "MONGO_AUTH = os.environ.get(\"MONGO_AUTH\")"
   ],
   "outputs": [],
   "metadata": {}
  },
  {
   "cell_type": "code",
   "execution_count": 3,
   "source": [
    "client = MongoClient(\"mongodb+srv://{}@meusite.hcxhp.mongodb.net/Site?retryWrites=true&w=majority\".format(MONGO_AUTH))\n",
    "db = client.Site\n",
    "\n",
    "Coll = db[CLIENT_NAME]"
   ],
   "outputs": [],
   "metadata": {}
  },
  {
   "cell_type": "code",
   "execution_count": 6,
   "source": [
    "cursor = Coll.find()\n",
    "data = [doc for doc in cursor if doc.get(\"_id\") != \"Auth\"]\n",
    "\n",
    "print(data)\n"
   ],
   "outputs": [
    {
     "output_type": "stream",
     "name": "stdout",
     "text": [
      "[{'_id': 'Metadata', 'logo': 'Eduardo.Viva', 'name': 'O Leo né', 'role': 'UX / UI / Product Designer', 'pic': 'https://eduviva.github.io/Meu-site/images/foto.png', 'description': 'Meu <b>objetivo</b> é melhorar o mundo entregando experiências melhores através do design. Serei referência no meu trabalho, por isso tenho a <b>meta</b> de alcançar Design Lead em 5 anos.<br/>Também faço projetos pessoais de dev por hobby.', 'btnLink': '', 'btnTitle': 'Meu currículo'}, {'_id': 'Posts', 'data': [{'image': 'https://vignette.wikia.nocookie.net/disney/images/4/41/DoofenshmirtzFull.jpg/revision/latest?cb=20190819173522', 'imageFill': 'cover', 'title': 'Estudo de caso Doof', 'description': 'Identificando oportunidades para capturar Perry o ornitorrinco', 'tags': ['Figma'], 'link': '#', 'id': '7y0wd44sxb'}]}, {'_id': 'Projects', 'data': [{'image': 'https://vignette.wikia.nocookie.net/disney/images/4/41/DoofenshmirtzFull.jpg/revision/latest?cb=20190819173522', 'imageFill': 'cover', 'title': 'Estudo de caso Doof', 'description': 'Identificando oportunidades para capturar Perry o ornitorrinco', 'tags': ['Figma'], 'link': '#', 'id': 'fwsthzphq5'}]}, {'_id': 'Colors', 'primary': '#1F2572', 'secondary': '#f50057', 'auxiliar': '#CDEF77', 'helperPrimary': '#8E91B7', 'helperSecondary': '#ff4081', 'helperAuxiliar': '#E5F6BA'}, {'_id': 'Contact', 'whatsapp': 'whats.com', 'behance': 'behance.com', 'linkedin': 'in.com', 'email': 'edu@gmail.com', 'github': 'github.com'}, {'_id': 'Books', 'data': [{'id': '7y0wd44sxb', 'image': 'https://vignette.wikia.nocookie.net/disney/images/4/41/DoofenshmirtzFull.jpg/revision/latest?cb=20190819173522', 'author': 'Eduardo', 'title': 'Estudo de caso Doof', 'current': True}, {'id': 'kjlkkk7', 'image': 'https://vignette.wikia.nocookie.net/disney/images/4/41/DoofenshmirtzFull.jpg/revision/latest?cb=20190819173522', 'author': 'Eduardo', 'title': 'Estudo de caso Doof', 'current': True}]}, {'_id': 'Studies', 'data': [{'id': '7y0wd44sxb', 'course': 'Especialização User experience', 'title': 'Pós - Uniritter', 'start': '05/2021', 'end': '05/2022', 'type': 'formation'}, {'id': 'qehoye2cvl', 'title': 'Formação - Unicesumar', 'course': 'Análise e Desenvolvimento de Sistemas', 'start': '05/2017', 'end': '10/2020', 'type': 'formation'}, {'id': 'vid0zouwzo', 'title': 'Curso - Awari', 'course': 'Intensivo UI Design', 'start': '11/2020', 'end': '03/2021', 'type': 'course'}, {'id': 'rvz0yqmno9', 'title': 'Curso - UX Unicórnio', 'course': 'UX, UI & Product Design', 'start': '05/2016', 'end': '10/2020', 'type': 'course'}]}]\n"
     ]
    }
   ],
   "metadata": {}
  },
  {
   "cell_type": "code",
   "execution_count": 69,
   "source": [
    "import functools\n",
    "\n",
    "def reducer(acc, item):\n",
    "    acc[item.get(\"_id\").lower()] = item\n",
    "    return acc\n",
    "\n",
    "reduced = functools.reduce(reducer, data, {})\n",
    "\n",
    "print(reduced)\n"
   ],
   "outputs": [
    {
     "output_type": "stream",
     "name": "stdout",
     "text": [
      "{'metadata': {'_id': 'Metadata', 'logo': 'Eduardo.Viva', 'name': 'Eduardo', 'role': 'UX / UI / Product Designer'}, 'posts': {'_id': 'Posts', 'data': [{'image': 'https://vignette.wikia.nocookie.net/disney/images/4/41/DoofenshmirtzFull.jpg/revision/latest?cb=20190819173522', 'imageFill': 'cover', 'title': 'Estudo de caso Doof', 'description': 'Identificando oportunidades para capturar Perry o ornitorrinco', 'tags': ['Figma'], 'link': '#'}]}, 'projects': {'_id': 'Projects', 'data': [{'image': 'https://vignette.wikia.nocookie.net/disney/images/4/41/DoofenshmirtzFull.jpg/revision/latest?cb=20190819173522', 'imageFill': 'cover', 'title': 'Estudo de caso Doof', 'description': 'Identificando oportunidades para capturar Perry o ornitorrinco', 'tags': ['Figma'], 'link': '#'}]}}\n"
     ]
    }
   ],
   "metadata": {}
  }
 ],
 "metadata": {
  "interpreter": {
   "hash": "31f2aee4e71d21fbe5cf8b01ff0e069b9275f58929596ceb00d14d90e3e16cd6"
  },
  "kernelspec": {
   "name": "python3",
   "display_name": "Python 3.8.10 64-bit"
  },
  "language_info": {
   "name": "python",
   "version": "3.8.10",
   "mimetype": "text/x-python",
   "codemirror_mode": {
    "name": "ipython",
    "version": 3
   },
   "pygments_lexer": "ipython3",
   "nbconvert_exporter": "python",
   "file_extension": ".py"
  },
  "metadata": {
   "interpreter": {
    "hash": "31f2aee4e71d21fbe5cf8b01ff0e069b9275f58929596ceb00d14d90e3e16cd6"
   }
  },
  "orig_nbformat": 2
 },
 "nbformat": 4,
 "nbformat_minor": 2
}